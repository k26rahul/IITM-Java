{
 "cells": [
  {
   "cell_type": "markdown",
   "metadata": {},
   "source": [
    "### Exception Handling\n",
    "\n",
    "- *Code generates errors: raises/throws exceptions*\n",
    "- *Caller catches exceptions: corrective action*\n",
    "- *Extract error info from exception object*\n",
    "- *Graceful interruption, not program crash*\n",
    "- *Method declares exceptions it can throw*\n",
    "\n",
    "### Throwable Class\n",
    "\n",
    "- *All exceptions descend from Throwable*\n",
    "- *Two branches: Error and Exception*\n",
    "\n",
    "### Error Class\n",
    "\n",
    "- *Relatively rare, not programmer's fault*\n",
    "- *Internal errors, resource limitations*\n",
    "- *No realistic corrective action, notify caller, terminate gracefully*\n",
    "\n",
    "### RuntimeException\n",
    "\n",
    "- *Programming errors not caught by code*\n",
    "- *Examples: Array index out of bounds, invalid hash key*\n",
    "\n",
    "### Checked Exceptions\n",
    "\n",
    "- *Typically user-defined*\n",
    "- *Code assumptions violated*\n",
    "- *Example: In a list of orders, quantities should be positive integers*"
   ]
  },
  {
   "cell_type": "markdown",
   "metadata": {},
   "source": [
    "### Catching and Handling Exceptions\n",
    "\n",
    "- `try-catch` structure:\n",
    "  - *Enclose code that may generate exceptions in a `try` block*\n",
    "  - *Exception handler in `catch` block*\n",
    "\n",
    "- If `try` encounters an exception:\n",
    "  - *Rest of the code in the block is skipped*\n",
    "  - *If exception matches the type in `catch`, handler code executes*\n",
    "  - *Otherwise, uncaught exception is passed back to the calling code*\n",
    "  - *Top level uncaught exception leads to program crash*\n",
    "\n",
    "Example:\n",
    "```java\n",
    "try {\n",
    "    // Code that may throw an exception\n",
    "    callFunctionThatMayThrowException();\n",
    "} catch (ExceptionType e) {\n",
    "    // Handle the exception\n",
    "}\n",
    "```"
   ]
  },
  {
   "cell_type": "markdown",
   "metadata": {},
   "source": [
    "### Catching and Handling Exceptions\n",
    "\n",
    "- *Can catch more than one type of exception*\n",
    "  - *Multiple `catch` blocks*\n",
    "  - *Exceptions are classes in the Java class hierarchy*\n",
    "  - *`catch (ExceptionType e)` matches any subtype of `ExceptionType`*\n",
    "  - *Catch blocks are tried in sequence*\n",
    "    - *Match exception type against each one in turn*\n",
    "  - *Order catch blocks by argument type, from more specific to less specific*\n",
    "    - *`IOException` would intercept `FileNotFoundException`*\n",
    "\n",
    "Example:\n",
    "```java\n",
    "try {\n",
    "    // Code that might throw exceptions\n",
    "} catch (FileNotFoundException e) {\n",
    "    // Handle missing files\n",
    "} catch (UnknownHostException e) {\n",
    "    // Handle unknown hosts\n",
    "} catch (IOException e) {\n",
    "    // Handle all other I/O issues\n",
    "}\n",
    "```"
   ]
  }
 ],
 "metadata": {
  "language_info": {
   "name": "python"
  }
 },
 "nbformat": 4,
 "nbformat_minor": 2
}
