{
 "cells": [
  {
   "cell_type": "markdown",
   "metadata": {},
   "source": [
    "# Access Modifiers in Java\n",
    "\n",
    "- There are two types of modifiers in Java: access modifiers and non-access modifiers.\n",
    "- The access modifiers in Java specifies the accessibility or scope of a field, method, constructor, or class.\n",
    "- We can change the access level of fields, constructors, methods, and class by applying the access modifier on it.\n",
    "\n",
    "- Four types of Java access modifiers:\n",
    "\n",
    "  - **Private:**\n",
    "    - *The access level of a private modifier is only within the class.*\n",
    "    - *It cannot be accessed from outside the class.*\n",
    "  - **Default:**\n",
    "    - *The access level of a default modifier is only within the package.*\n",
    "    - *It cannot be accessed from outside the package.*\n",
    "    - *If you do not specify any access level, it will be the default.*\n",
    "  - **Protected:**\n",
    "    - *The access level of a protected modifier is within the package and outside the package through child class.*\n",
    "    - *If you do not make the child class, it cannot be accessed from outside the package.*\n",
    "  - **Public:**\n",
    "    - *The access level of a public modifier is everywhere.*\n",
    "    - *It can be accessed from within the class, outside the class, within the package and outside the package.*\n",
    "\n",
    "- There are many non-access modifiers, such as static, abstract, synchronized, native, volatile, transient, etc."
   ]
  }
 ],
 "metadata": {
  "language_info": {
   "name": "python"
  }
 },
 "nbformat": 4,
 "nbformat_minor": 2
}
