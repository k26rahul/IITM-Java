{
 "cells": [
  {
   "cell_type": "markdown",
   "metadata": {},
   "source": [
    "https://docs.oracle.com/javase/8/docs/api/java/lang/Throwable.html\n",
    "\n",
    "https://docs.oracle.com/javase/tutorial/essential/exceptions/runtime.html\n",
    "\n",
    "https://www.geeksforgeeks.org/errors-v-s-exceptions-in-java/\n",
    "\n",
    "https://www.geeksforgeeks.org/checked-vs-unchecked-exceptions-in-java/\n",
    "\n",
    "https://en.wikibooks.org/wiki/Java_Programming/Checked_Exceptions\n",
    "\n",
    "https://www.baeldung.com/java-checked-unchecked-exceptions"
   ]
  },
  {
   "cell_type": "markdown",
   "metadata": {},
   "source": [
    "# Throwable\n",
    "\n",
    "- Superclass of Error and Exception.\n",
    "  - Instances can be thrown by the `throw` statement.\n",
    "\n",
    "# Error\n",
    "- Serious problems outside program's control.\n",
    "  - Avoid catching.\n",
    "  - No recovery; program terminates.\n",
    "  - Examples:\n",
    "    - OutOfMemoryError\n",
    "    - StackOverflowError\n",
    "    - NoClassDefFoundError\n",
    "\n",
    "# Exception\n",
    "- Problems handled within the program.\n",
    "  - Catch and take action.\n",
    "  - Recovery possible; program continues.\n",
    "  - Examples:\n",
    "    - NullPointerException\n",
    "    - IllegalArgumentException\n",
    "    - IOException"
   ]
  },
  {
   "cell_type": "markdown",
   "metadata": {},
   "source": [
    "# Checked Exceptions\n",
    "  - If a client can recover from an exception, make it checked.\n",
    "    - Known issues, potential recovery.\n",
    "  - A method may declare it can throw, even if it doesn't.\n",
    "    - Caller has to handle.\n",
    "  - Checked exception declaration has domino effect.\n",
    "    - Subsequent methods must handle it.\n",
    "  - Checked exception must be caught or declared.\n",
    "    - Classes specified after `throws` keyword are part of contract.\n",
    "  - Code won't compile if it can throw.\n",
    "  - Compilation errors resolved by catching or declaring.\n",
    "  - In Java hierarchy, exception is checked if `Throwable` but not `RuntimeException` or `Error`.\n",
    "  - **Examples**:\n",
    "    1. File I/O errors.\n",
    "    2. Database connection issues.\n",
    "    3. Network problems.\n",
    "\n",
    "# Unchecked Exceptions\n",
    "  - If client can't recover, make it unchecked.\n",
    "    - Java doesn't verify unchecked exceptions.\n",
    "  - No need to declare in method with `throws`.\n",
    "    - Unexpected situations.\n",
    "  - Unchecked exceptions include `RuntimeException` or `Error`.\n",
    "  - **Examples**:\n",
    "    1. NullPointerException.\n",
    "    2. ArrayIndexOutOfBoundsException.\n",
    "    3. IllegalArgumentException."
   ]
  },
  {
   "cell_type": "markdown",
   "metadata": {},
   "source": [
    "## Try-Catch\n",
    "- `try` block encloses the code where exceptions might occur.\n",
    "- `catch` block handles the exceptions thrown within the `try` block.\n",
    "  - Multiple catch blocks can be used to handle different types of exceptions.\n",
    "  - Execution flows to the first matching catch block.\n",
    "- `finally` block executes regardless of whether an exception is thrown.\n",
    "  - Used for cleanup actions like closing resources (e.g., file handles, database connections).\n",
    "- Syntax:\n",
    "  ```java\n",
    "  try {\n",
    "      // Code that might throw exceptions\n",
    "  } catch (ExceptionType1 e1) {\n",
    "      // Handle ExceptionType1\n",
    "  } catch (ExceptionType2 e2) {\n",
    "      // Handle ExceptionType2\n",
    "  } finally {\n",
    "      // Optional: Executes regardless of whether an exception is caught\n",
    "      // Used for cleanup tasks like closing resources\n",
    "  }\n",
    "  ```\n",
    "  \n",
    "# Throws\n",
    "- Used in method signature to declare that the method may throw certain types of exceptions.\n",
    "- Forces callers of the method to handle or propagate the declared exceptions.\n",
    "  - Allows the method to defer exception handling to its caller.\n",
    "- Unchecked exceptions need not be declared with `throws`.\n",
    "- Helps in documenting potential exceptions that a method might throw.\n",
    "  - When a method declares an exception with `throws`, it becomes part of the method's contract, and callers must handle or declare the exception.\n",
    "- Syntax:\n",
    "  ```java\n",
    "  public void methodName(parameters) throws ExceptionType1, ExceptionType2 {\n",
    "      // Method implementation\n",
    "  }\n",
    "  ```"
   ]
  }
 ],
 "metadata": {
  "language_info": {
   "name": "python"
  }
 },
 "nbformat": 4,
 "nbformat_minor": 2
}
