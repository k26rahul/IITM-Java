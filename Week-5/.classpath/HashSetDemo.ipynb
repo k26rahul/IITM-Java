{
 "cells": [
  {
   "cell_type": "markdown",
   "metadata": {},
   "source": [
    "# `HashSet` class:\n",
    "\n",
    "- `add(E e)`: Adds the specified element to the `HashSet`.\n",
    "- `remove(Object o)`: Removes the specified element from the `HashSet`.\n",
    "- `contains(Object o)`: Checks if the `HashSet` contains the specified element.\n",
    "- `iterator()`: Returns an iterator over the elements in the `HashSet`.\n",
    "- `size()`: Returns the number of elements in the `HashSet`.\n",
    "- `clear()`: Removes all elements from the `HashSet`.\n",
    "- `isEmpty()`: Checks if the `HashSet` is empty."
   ]
  }
 ],
 "metadata": {
  "language_info": {
   "name": "python"
  }
 },
 "nbformat": 4,
 "nbformat_minor": 2
}
