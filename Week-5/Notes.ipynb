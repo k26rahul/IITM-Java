{
 "cells": [
  {
   "cell_type": "markdown",
   "metadata": {},
   "source": [
    "## Class\n",
    "- members\n",
    "  - attributes (properties, state, fields, instance/static variables)\n",
    "  - methods\n",
    "\n",
    "- instance members: myObj.attribute, myObj.method()\n",
    "- static members: Class.attribute, Class.method()\n",
    "- Class myObj = new Class(name, mobileNumber)\n",
    "\n",
    "## Abstraction:\n",
    "- hiding implementation details\n",
    "- bank.deposit(accNumber, amount) -> inner working is hidden\n",
    "\n",
    "## Encapsulation\n",
    "- data privacy (private members (getters/setters))\n",
    "- data bundling (wrapping up of data under a single unit)\n",
    "- account.balance\n",
    "  - -> do not expose it bcz account.balance += 100000\n",
    "  - getBalance()\n",
    "  - depositBalance(amount)\n",
    "  - withdrawBalance(amount)\n",
    "\n",
    "## Inheritance\n",
    "- The capability of a class to derive properties and characteristics from another class is called Inheritance.\n",
    "\n",
    "## Message Passing\n",
    "- A message for an object is a request for execution of a procedure/function/method.\n",
    "- Message passing involves specifying the name of the object, the name of the function, and the information to be sent.\n",
    "- pet.eat(\"milk\")\n",
    "- bank.createAccount(\"John Doe\", \"18918881\")"
   ]
  }
 ],
 "metadata": {
  "language_info": {
   "name": "python"
  }
 },
 "nbformat": 4,
 "nbformat_minor": 2
}
