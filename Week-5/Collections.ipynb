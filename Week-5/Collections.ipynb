{
 "cells": [
  {
   "cell_type": "markdown",
   "metadata": {},
   "source": [
    "## Java Collections Framework (JCF) Collections:\n",
    "\n",
    "- Interfaces:\n",
    "  - `Collection`\n",
    "  - `List`\n",
    "  - `Set`\n",
    "  - `Map`\n",
    "\n",
    "- Key Points:\n",
    "  - Define behaviors and contracts.\n",
    "  - Polymorphism allows flexibility.\n",
    "  - Offers various implementations:\n",
    "    - `ArrayList`\n",
    "    - `LinkedList`\n",
    "    - `HashSet`\n",
    "    - `TreeSet`\n",
    "    - `HashMap`\n",
    "    - `TreeMap`\n",
    "  - Ensures type safety with generics.\n",
    "  - Standard part of Java platform.\n",
    "\n",
    "## Concrete Collections:\n",
    "\n",
    "- Classes:\n",
    "  - `ArrayList`\n",
    "  - `LinkedList`\n",
    "  - `HashSet`\n",
    "  - `TreeSet`\n",
    "  - `HashMap`\n",
    "  - `TreeMap`\n",
    "\n",
    "- Key Points:\n",
    "  - Provide specific implementations.\n",
    "  - Directly usable without interface implementation.\n",
    "  - Custom implementations possible.\n",
    "  - Varying performance based on data structure.\n",
    "  - Some may require casting without generics."
   ]
  }
 ],
 "metadata": {
  "language_info": {
   "name": "python"
  }
 },
 "nbformat": 4,
 "nbformat_minor": 2
}
