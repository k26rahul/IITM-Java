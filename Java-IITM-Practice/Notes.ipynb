{
 "cells": [
  {
   "cell_type": "markdown",
   "metadata": {},
   "source": [
    "**Keywords:**\n",
    "- `public`\n",
    "- `static`\n",
    "- `void`\n",
    "- `main`\n",
    "- `final`\n",
    "- `new`\n",
    "\n",
    "**Programming Constructs:**\n",
    "- `class`\n",
    "- `object`\n",
    "- `instance`\n",
    "- `variable`\n",
    "- `attribute`\n",
    "- `method`\n",
    "- `constructor`\n",
    "- `static method`\n",
    "- `non-static method`\n",
    "- `instance method`\n",
    "\n",
    "**Object-Oriented Programming Concepts:**\n",
    "- `Encapsulation`\n",
    "- `getter`\n",
    "- `setter`"
   ]
  },
  {
   "cell_type": "markdown",
   "metadata": {},
   "source": [
    "1. **Subclass**:\n",
    "   - A subclass, also known as a derived class or child class, is a class that inherits properties and behaviors (methods) from another class called the superclass or parent class.\n",
    "   - The subclass extends the functionality of the superclass by adding its own methods and variables or by overriding methods of the superclass.\n",
    "   - Subclasses allow for code reuse and provide a way to create specialized classes based on existing ones.\n",
    "\n",
    "2. **Abstract Class**:\n",
    "   - An abstract class is a class that cannot be instantiated on its own and may contain one or more abstract methods.\n",
    "   - An abstract method is a method declared without implementation (i.e., without a body). Subclasses of an abstract class must provide implementations for all abstract methods, or they themselves must be declared as abstract.\n",
    "   - Abstract classes serve as blueprints for other classes and are typically used to define common behavior and structure among related classes.\n",
    "\n",
    "3. **Inheritance**:\n",
    "   - Inheritance is a mechanism in OOP that allows a class (subclass) to inherit properties and behaviors from another class (superclass).\n",
    "   - The subclass inherits all non-private fields and methods from the superclass and can also have its own additional fields and methods.\n",
    "   - Inheritance promotes code reuse and facilitates the creation of hierarchical class structures.\n",
    "\n",
    "4. **Extend (keyword)**:\n",
    "   - In Java, the `extends` keyword is used to create a subclass that inherits from a superclass.\n",
    "   - When a class extends another class using the `extends` keyword, it inherits all the fields and methods of the superclass.\n",
    "   - The subclass can then add its own fields and methods or override methods from the superclass."
   ]
  }
 ],
 "metadata": {
  "language_info": {
   "name": "python"
  }
 },
 "nbformat": 4,
 "nbformat_minor": 2
}
